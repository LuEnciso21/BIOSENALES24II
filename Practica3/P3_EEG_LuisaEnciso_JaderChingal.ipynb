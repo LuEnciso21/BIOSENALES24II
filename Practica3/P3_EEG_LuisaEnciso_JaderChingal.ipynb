{
 "cells": [
  {
   "cell_type": "markdown",
   "metadata": {},
   "source": [
    "Carga de los datos"
   ]
  },
  {
   "cell_type": "code",
   "execution_count": 72,
   "metadata": {},
   "outputs": [],
   "source": [
    "import numpy as np;\n",
    "import matplotlib.pyplot as plt;\n",
    "import scipy.io as sio;\n",
    "from scipy.fftpack import fft, ifft;\n",
    "import os\n",
    "import pandas as pd\n",
    "from scipy import stats\n",
    "from statsmodels.tsa.stattools import adfuller"
   ]
  },
  {
   "cell_type": "code",
   "execution_count": 73,
   "metadata": {},
   "outputs": [
    {
     "name": "stdout",
     "output_type": "stream",
     "text": [
      "Archivo 1: C001R_EP_reposo.mat\n",
      "Archivo 2: C002_EP_reposo.mat\n",
      "Archivo 3: C004_EP_reposo.mat\n",
      "Archivo 4: C005_EP_reposo_Repetido.mat\n",
      "Archivo 5: C006_EP_reposo.mat\n",
      "Archivo 6: C007_EP_reposo.mat\n",
      "Archivo 7: C010_EP_reposo.mat\n",
      "Archivo 8: C011_EP_reposo.mat\n",
      "Archivo 9: C012_EP_reposo.mat\n",
      "Archivo 10: C013_EP_reposo.mat\n",
      "Archivo 11: C015_EP_reposo.mat\n",
      "Archivo 12: C018_EP_reposo.mat\n",
      "Archivo 13: C019_EP_reposo.mat\n",
      "Archivo 14: C020_EP_reposo.mat\n",
      "Archivo 15: C021_EP_reposo.mat\n",
      "Archivo 16: C023_EP_reposo.mat\n",
      "Archivo 17: C024_EP_reposo.mat\n",
      "Archivo 18: C025_EP_reposo.mat\n",
      "Archivo 19: C026_EP_reposo.mat\n",
      "Archivo 20: C027_EP_reposo.mat\n",
      "Archivo 21: C028_EP_reposo.mat\n",
      "Archivo 22: C029_EP_reposo.mat\n",
      "Archivo 23: C030_EP_reposo.mat\n",
      "Archivo 24: C031_EP_reposo.mat\n",
      "Archivo 25: C032_EP_reposo.mat\n",
      "Archivo 26: C033R_EP_reposo.mat\n",
      "Archivo 27: C034_EP_reposo.mat\n",
      "Archivo 28: C036_EP_reposo.mat\n",
      "Archivo 29: C037_EP_reposo.mat\n",
      "Archivo 30: C040_EP_reposo.mat\n",
      "Archivo 31: C041_EP_reposo.mat\n",
      "Archivo 32: C042_EP_reposo.mat\n",
      "Archivo 33: C044_EP_reposo.mat\n",
      "Archivo 34: C045_EP_reposo.mat\n",
      "Archivo 35: C046_EP_reposo.mat\n",
      "Archivo 36: C049_EP_reposo.mat\n"
     ]
    }
   ],
   "source": [
    "# Cargar datos control\n",
    "\n",
    "# Directorio actual y subdirectorio de control\n",
    "directorio_actual = os.getcwd()\n",
    "directorio_control = os.path.join(directorio_actual, 'control')\n",
    "\n",
    "# Parámetros de configuración\n",
    "fs = 1000  # Frecuencia de muestreo en Hz\n",
    "num_canales = 8  # Número de canales de EEG\n",
    "\n",
    "# Lista para almacenar los datos de todos los sujetos de control\n",
    "control = []\n",
    "\n",
    "# Iterar sobre todos los archivos en el directorio de control\n",
    "for i, archivo in enumerate(os.listdir(directorio_control)):\n",
    "    # Construir la ruta completa del archivo\n",
    "    ruta_archivo = os.path.join(directorio_control, archivo)\n",
    "\n",
    "    # Cargar los datos del archivo .mat\n",
    "    datos = sio.loadmat(ruta_archivo)\n",
    "    datos_control_sujeto = datos['data']\n",
    "\n",
    "    # Obtener las dimensiones de los datos\n",
    "    sensores, puntos, epocas = datos_control_sujeto.shape\n",
    "\n",
    "    # Reshape de los datos para obtener una señal continua\n",
    "    senal_continuaC = np.reshape(datos_control_sujeto, (sensores, puntos * epocas), order='F')\n",
    "\n",
    "    # Agregar los datos del sujeto a la lista de control\n",
    "    control.append(datos_control_sujeto)\n",
    "\n",
    "    # Mostrar el nombre del archivo procesado\n",
    "    print(f\"Archivo {i+1}: {archivo}\")"
   ]
  },
  {
   "cell_type": "code",
   "execution_count": 74,
   "metadata": {},
   "outputs": [
    {
     "name": "stdout",
     "output_type": "stream",
     "text": [
      "Variable python: <class 'numpy.ndarray'>\n",
      "Tipo de variable cargada: float64\n",
      "Dimensiones de los datos cargados: (8, 2000, 184)\n",
      "Numero de dimensiones: 3\n",
      "Tamanio: 2944000\n",
      "Tamanio en memoria (bytes): 23552000\n"
     ]
    }
   ],
   "source": [
    "print(\"Variable python: \" + str(type(datos_control_sujeto)))\n",
    "# Características básicas de ndarray\n",
    "\n",
    "# Imprime el tipo de dato de los elementos del array\n",
    "print(\"Tipo de variable cargada: \" + str(datos_control_sujeto.dtype))\n",
    "# Imprime las dimensiones del array\n",
    "print(\"Dimensiones de los datos cargados: \" + str(datos_control_sujeto.shape))\n",
    "# Imprime el número de dimensiones del array\n",
    "print(\"Numero de dimensiones: \" + str(datos_control_sujeto.ndim))\n",
    "# Imprime el número total de elementos del array\n",
    "print(\"Tamanio: \" + str(datos_control_sujeto.size))\n",
    "# Imprime el tamaño en bytes que ocupa el array en memoria\n",
    "print(\"Tamanio en memoria (bytes): \" + str(datos_control_sujeto.nbytes))"
   ]
  },
  {
   "cell_type": "code",
   "execution_count": 75,
   "metadata": {},
   "outputs": [
    {
     "name": "stdout",
     "output_type": "stream",
     "text": [
      "Archivo 1:P001_EP_reposo.mat\n",
      "Archivo 2:P004_EP_reposo.mat\n",
      "Archivo 3:P005_EP_reposo.mat\n",
      "Archivo 4:P007_EP_reposo.mat\n",
      "Archivo 5:P012_EP_reposo.mat\n",
      "Archivo 6:P013_EP_reposo.mat\n",
      "Archivo 7:P015_EP_reposo.mat\n",
      "Archivo 8:P016_EP_reposo.mat\n",
      "Archivo 9:P017_EP_reposo.mat\n",
      "Archivo 10:P018_EP_reposo.mat\n",
      "Archivo 11:P020_EP_reposo.mat\n",
      "Archivo 12:P025_EP_reposo.mat\n",
      "Archivo 13:P026_EP_reposo.mat\n",
      "Archivo 14:P028_EP_reposo.mat\n",
      "Archivo 15:P030_EP_reposo.mat\n",
      "Archivo 16:P032_EP_reposo.mat\n",
      "Archivo 17:P033_EP_reposo.mat\n",
      "Archivo 18:P034_EP_reposo.mat\n",
      "Archivo 19:P040_EP_reposo.mat\n",
      "Archivo 20:P041_EP_reposo.mat\n",
      "Archivo 21:P046_EP_reposo.mat\n",
      "Archivo 22:P048_EP_reposo.mat\n",
      "Archivo 23:P049_EP_reposo.mat\n"
     ]
    }
   ],
   "source": [
    "# Cargar datos parkinson\n",
    "archivos=os.listdir(directorio_actual+'/parkinson')  # Obtiene una lista de todos los archivos en el directorio 'parkinson'\n",
    "parkinson=[]  # Inicializa una lista vacía para almacenar los datos de cada sujeto con Parkinson\n",
    "\n",
    "for i in range(0,len(archivos)):  # Itera sobre cada archivo en la lista de archivos\n",
    "    # Ruta Archivo\n",
    "    sujeto_i=directorio_actual+'/parkinson'+'/'+archivos[i]  # Construye la ruta completa del archivo\n",
    "    # Cargar Archivo\n",
    "    data=sio.loadmat(sujeto_i)  # Carga el archivo .mat en una variable llamada 'data'\n",
    "    dataP=data['data']  # Extrae la matriz de datos del archivo cargado\n",
    "    # Continuo\n",
    "    sensores = dataP.shape[0]  # Obtiene el número de sensores (canales)\n",
    "    puntos = dataP.shape[1]  # Obtiene el número de puntos de datos por canal\n",
    "    epocas = dataP.shape[2]  # Obtiene el número de épocas (ensayos)\n",
    "\n",
    "    senal_continuaP = np.reshape(dataP,(sensores, puntos*epocas), order = 'F')  # Convierte los datos en una señal continua\n",
    "    # Agregar a lista Parkinson\n",
    "    parkinson.append(dataP)  # Agrega los datos del sujeto a la lista 'parkinson'\n",
    "    # Mostar nombre de los archivos\n",
    "    print(f\"Archivo {i+1}:{archivos[i]}\")  # Imprime el nombre del archivo que se está procesando"
   ]
  },
  {
   "cell_type": "code",
   "execution_count": 76,
   "metadata": {},
   "outputs": [
    {
     "name": "stdout",
     "output_type": "stream",
     "text": [
      "Variable python: <class 'numpy.ndarray'>\n",
      "Tipo de variable cargada: float64\n",
      "Dimensiones de los datos cargados: (8, 2000, 170)\n",
      "Numero de dimensiones: 3\n",
      "Tamanio: 2720000\n",
      "Tamanio en memoria (bytes): 21760000\n"
     ]
    }
   ],
   "source": [
    "print(\"Variable python: \" + str(type(dataP)))\n",
    "# Características básicas de ndarray\n",
    "\n",
    "# Imprime el tipo de dato de los elementos del array\n",
    "print(\"Tipo de variable cargada: \" + str(dataP.dtype))\n",
    "# Imprime las dimensiones del array\n",
    "print(\"Dimensiones de los datos cargados: \" + str(dataP.shape))\n",
    "# Imprime el número de dimensiones del array\n",
    "print(\"Numero de dimensiones: \" + str(dataP.ndim))\n",
    "# Imprime el número total de elementos del array\n",
    "print(\"Tamanio: \" + str(dataP.size))\n",
    "# Imprime el tamaño en bytes que ocupa el array en memoria\n",
    "print(\"Tamanio en memoria (bytes): \" + str(dataP.nbytes))"
   ]
  },
  {
   "cell_type": "markdown",
   "metadata": {},
   "source": [
    "Visualización de las señales en continuo"
   ]
  },
  {
   "cell_type": "code",
   "execution_count": 77,
   "metadata": {},
   "outputs": [
    {
     "data": {
      "image/png": "[encoded data removed]",
      "text/plain": [
       "<Figure size 720x576 with 2 Axes>"
      ]
     },
     "metadata": {
      "needs_background": "light"
     },
     "output_type": "display_data"
    }
   ],
   "source": [
    "# Visualización de señales\n",
    "\n",
    "fig = plt.figure(figsize=(10, 8))  # Crea una figura de matplotlib con un tamaño específico (10 pulgadas de ancho, 8 pulgadas de alto)\n",
    "plt.subplot(2, 1, 1)  # Divide la figura en una cuadrícula de 2 filas y 1 columna, y selecciona el primer subplot (arriba)\n",
    "plt.plot(senal_continuaC[0, 0:2000])  # Muestra una gráfica de los primeros 2000 puntos del primer canal (índice 0) de la señal control\n",
    "plt.title('Señal Control')  # Establece el título del subplot superior como \"Señal Control\"\n",
    "plt.xlabel('Muestras')  # Etiqueta el eje X como \"Muestras\"\n",
    "plt.ylabel('Amplitud')  # Etiqueta el eje Y como \"Amplitud\"\n",
    "\n",
    "plt.subplot(2, 1, 2)  # Selecciona el segundo subplot (abajo)\n",
    "plt.plot(senal_continuaP[0, 0:2000])  # Muestra una gráfica de los primeros 2000 puntos del primer canal (índice 0) de la señal Parkinson\n",
    "plt.title('Señal Parkinson')  # Establece el título del subplot inferior como \"Señal Parkinson\"\n",
    "plt.xlabel('Muestras')  # Etiqueta el eje X como \"Muestras\"\n",
    "plt.ylabel('Amplitud')  # Etiqueta el eje Y como \"Amplitud\"\n",
    "\n",
    "plt.tight_layout()  # Ajusta el espacio entre los subplots para evitar superposiciones de elementos\n",
    "plt.show()  # Muestra la figura creada"
   ]
  },
  {
   "cell_type": "markdown",
   "metadata": {},
   "source": [
    "1.\tImplemente una función que reciba una señal de múltiples canales y épocas y calcule la Energía de promedio de cada canal."
   ]
  },
  {
   "cell_type": "code",
   "execution_count": 78,
   "metadata": {},
   "outputs": [],
   "source": [
    "def average_energy(signal):\n",
    "    \"\"\"\n",
    "    Calcula la energía promedio de cada canal en una señal multidimensional.\n",
    "\n",
    "    Args:\n",
    "        signal: Una matriz que representa una señal\n",
    "\n",
    "    Returns:\n",
    "        Un array NumPy que contiene la energía promedio de cada canal.\n",
    "    \"\"\"\n",
    "\n",
    "    canales, puntos, epocas = signal.shape  # Obtiene las dimensiones de la señal\n",
    "\n",
    "    # Calcula la energía de cada época\n",
    "    energia_epoca = np.sum(signal**2, axis=1)  # Calcula la suma de los cuadrados de cada elemento en cada época (energía de cada época)\n",
    "\n",
    "    # Calcula la energía promedio de cada canal\n",
    "    energia_promedio = np.mean(energia_epoca, axis=1)  # Calcula el promedio de la energía de cada época para cada canal\n",
    "\n",
    "    return energia_promedio  # Devuelve un array con la energía promedio de cada canal"
   ]
  },
  {
   "cell_type": "markdown",
   "metadata": {},
   "source": [
    "2.\tCalcule la energía de cada canal promediada por épocas para cada sujeto, esto para ambos grupos poblacionales. Guarde esta información en un DataFrame de columnas ‘canal’ y filas ‘#sujeto’ con los valores de energía calculados, un DataFrame para cada grupo poblacional. "
   ]
  },
  {
   "cell_type": "code",
   "execution_count": 79,
   "metadata": {},
   "outputs": [],
   "source": [
    "def dataFr(data):\n",
    "    \"\"\"\n",
    "    Crea un DataFrame de Pandas a partir de los datos de energía promedio de cada canal y sujeto.\n",
    "\n",
    "    Args:\n",
    "        data: Una lista de matrices que representa los datos de la energía promedio.\n",
    "\n",
    "    Returns:\n",
    "        Un DataFrame de Pandas con las siguientes columnas:\n",
    "            - sujeto: El número de identificación del sujeto.\n",
    "            - canal 1, canal 2, ..., canal 8: La energía promedio de cada canal para cada sujeto.\n",
    "    \"\"\"\n",
    "\n",
    "    datos = {'sujeto': [], 'canal 1': [], 'canal 2': [], 'canal 3': [], 'canal 4': [], 'canal 5': [], 'canal 6': [], 'canal 7': [], 'canal 8': []}  # Se crea un diccionario vacío para almacenar los datos, con una llave para cada canal y una llave para el número de sujeto\n",
    "    for sujeto in range(len(data)):  # Itera sobre cada sujeto en los datos\n",
    "        E_promedio = average_energy(data[sujeto])  # Calcula la energía promedio para cada canal del sujeto actual\n",
    "        datos['sujeto'].append(sujeto + 1)  # Agrega el número de sujeto al diccionario\n",
    "        for canal in range(len(E_promedio)):  # Itera sobre cada canal\n",
    "            datos[f'canal {canal+1}'].append(E_promedio[canal])  # Agrega la energía promedio del canal al diccionario\n",
    "    df = pd.DataFrame(datos)  # Convierte el diccionario en un DataFrame de Pandas\n",
    "    return df  # Devuelve el DataFrame"
   ]
  },
  {
   "cell_type": "code",
   "execution_count": 80,
   "metadata": {},
   "outputs": [
    {
     "name": "stdout",
     "output_type": "stream",
     "text": [
      "    sujeto       canal 1       canal 2       canal 3       canal 4  \\\n",
      "0        1  21465.650358  20985.907912  22760.149588  18505.640284   \n",
      "1        2  15966.402868  17617.810248  20804.937129  19654.400017   \n",
      "2        3  14148.673322  18283.999666  28749.932148  14270.726911   \n",
      "3        4  35311.301696  34916.686010  38800.429029  35427.031127   \n",
      "4        5  18510.829979  19738.489375  20911.792748  21828.254399   \n",
      "5        6  13180.109317  13925.217812  16218.994223  12324.883659   \n",
      "6        7  11197.554574  10948.368805  12737.004665  10745.161921   \n",
      "7        8  28551.124065  26204.839254  17383.998956  17244.605933   \n",
      "8        9   9133.036290   9214.155028  11626.411811  10809.621612   \n",
      "9       10  47166.556798  55107.798641  52286.884667  34682.656928   \n",
      "10      11  17567.465030  21738.511853  29429.308030  28530.200793   \n",
      "11      12  31250.507507  24222.776323  28298.111428  25378.777621   \n",
      "12      13  34036.502777  35276.242239  37728.034174  30403.012785   \n",
      "13      14   4915.062778   6105.849947   5167.552339   4137.717862   \n",
      "14      15  25807.598672  31148.334573  28640.385345  21025.777687   \n",
      "15      16  15536.232499  27171.554335  31295.123356  22037.159698   \n",
      "16      17  33100.991142  37083.630148  48210.820005  37758.393155   \n",
      "17      18  54139.262123  49105.618777  53194.129654  57224.244039   \n",
      "18      19   7053.495371   6483.359552   6733.630592   6466.650688   \n",
      "19      20   9702.573235   8310.599134  11274.177917   7138.981899   \n",
      "20      21  16237.836551  12899.899544  12386.284718  12167.858008   \n",
      "21      22  13352.558858  12079.042337  12056.752677  13537.102069   \n",
      "22      23  11920.628977  12381.108138  11545.897906  11616.229122   \n",
      "23      24  14798.253355  25379.940073  14356.020122  12288.656607   \n",
      "24      25  23331.449171  21794.167460  20057.059370  18703.362284   \n",
      "25      26  11840.210442  26452.547613  15211.335701  12976.758727   \n",
      "26      27  45453.734066  42660.225279  44139.445078  50829.933680   \n",
      "27      28  10717.179591   8678.364937   2837.929418   4247.197699   \n",
      "28      29  27648.962740  30316.594962  37591.351773  25811.252034   \n",
      "29      30  32321.272932  37703.798749  42613.972372  29252.410036   \n",
      "30      31  27406.189072  21049.882057  45082.411879  49492.678794   \n",
      "31      32  44475.710242  68589.716078  77481.958140  79786.695885   \n",
      "32      33  16525.863562  18074.712395  25064.807854  22946.351737   \n",
      "33      34  11419.720480  13899.308168  15693.423491   9310.798253   \n",
      "34      35  16272.826799  13075.926126  13775.441563  12795.198591   \n",
      "35      36  21064.909655  17704.075393  18305.622532  22438.444791   \n",
      "\n",
      "         canal 5        canal 6        canal 7        canal 8  \n",
      "0   29730.163026   25244.158073   22781.327587   24658.599512  \n",
      "1   16678.982063   93894.049009   66862.496275   75685.125872  \n",
      "2   28787.445978   14661.417740   15940.154095   19499.898656  \n",
      "3   35905.472869  106598.128152  106885.575966  112520.750636  \n",
      "4   23351.992649   53086.059766   37495.972475   43067.095504  \n",
      "5   14060.300659   25767.024864   21935.759622   22827.781293  \n",
      "6   10329.642418   21461.605831   15493.212776   27414.375247  \n",
      "7   26206.372422   83370.618408   51121.105722   67852.348256  \n",
      "8   10467.879938   46336.873547   45695.801756   50086.361637  \n",
      "9   30606.119338  227045.733387  224891.029478  322172.431642  \n",
      "10  24586.407386   73273.828899   68753.985484   67962.795266  \n",
      "11  33079.452791  240835.102634  156030.040579  278095.358270  \n",
      "12  32255.024467  149804.923665  194218.587624  270161.157209  \n",
      "13   4103.995281   20359.586331   17598.962585   22292.230470  \n",
      "14  18251.804557  148225.533204  123954.279562  139100.707347  \n",
      "15  15381.977763   52433.103691   52188.150059   46071.832322  \n",
      "16  28343.182930  101170.614692   87824.803410  137143.924875  \n",
      "17  56824.702656  239662.908728  194882.004020  381633.958654  \n",
      "18   6707.361817   17285.045612   16605.010744   18350.242393  \n",
      "19  10286.070527   16151.490459   15731.296585   20956.719846  \n",
      "20  19279.941752   57768.543178   53582.356717   68859.298874  \n",
      "21  13418.269716   38883.704467   37960.013947   37046.836341  \n",
      "22  18658.417865   42058.456657   34417.780679   46167.748438  \n",
      "23  11694.967690   33493.547072   32447.412642   35561.860821  \n",
      "24  21191.204277   91362.046468   60904.241719   53341.328914  \n",
      "25  14377.091900    7215.202754   15864.901097   19472.869878  \n",
      "26  59261.694214  253815.983291  214544.090670  247982.671049  \n",
      "27   7940.801560   24721.550337   21062.102476   19561.401306  \n",
      "28  27832.063483   22108.384942   16607.683515   14131.438919  \n",
      "29  26890.856667   68243.618642   52417.921598   72115.850131  \n",
      "30  40225.257438   42301.871711   33188.664449   34157.555662  \n",
      "31  70386.435807  345373.334477  215673.993168  298878.557209  \n",
      "32  24337.362553   70116.806192   63509.019508   71891.447386  \n",
      "33   9919.084395   38555.794005   36669.080773   48958.809066  \n",
      "34  14022.460790   70631.008328   70072.393087   69543.622247  \n",
      "35  22415.119998   43344.591885   36731.812513   45890.820535  \n"
     ]
    }
   ],
   "source": [
    "# Sujetos de control\n",
    "df_control=dataFr(control) # Llama a la función dataFr para crear un DataFrame de Pandas con la información de los sujetos de control\n",
    "print(df_control) # Imprime el DataFrame completo en la consola"
   ]
  },
  {
   "cell_type": "code",
   "execution_count": 81,
   "metadata": {},
   "outputs": [
    {
     "name": "stdout",
     "output_type": "stream",
     "text": [
      "    sujeto       canal 1       canal 2       canal 3       canal 4  \\\n",
      "0        1  12438.243570  11261.175800  10819.634775   9489.784462   \n",
      "1        2  17995.660058  12001.601821  12286.344400  14785.908284   \n",
      "2        3  38092.102574  43575.379457  41979.994799  41715.287990   \n",
      "3        4  23742.325612  22070.007569  24540.315612  21803.936448   \n",
      "4        5  48574.518921  51806.529769  73171.952374  59707.699631   \n",
      "5        6  16202.416566  13124.247855  13988.674335  12752.027365   \n",
      "6        7  10692.948223  10841.187262  12154.390086  24161.685202   \n",
      "7        8  12157.229828  13398.658526  17668.877657  14841.104693   \n",
      "8        9   9581.810471  14008.572615   9589.230257   9374.085669   \n",
      "9       10  23658.738825  23990.255991  30633.745996  22888.894132   \n",
      "10      11  23446.051598  26091.341850  36640.531850  25660.222773   \n",
      "11      12  48923.874237  64324.769523  85175.914992  78087.225852   \n",
      "12      13  14532.459483  17860.192841  30120.983497  29569.273094   \n",
      "13      14  29402.195610  31214.592172  30663.970154  24697.341514   \n",
      "14      15  22034.834171  21250.934562  27369.549841  13197.556268   \n",
      "15      16  33900.139101  32395.467750  29194.827407  23439.114082   \n",
      "16      17  17699.028112  26643.280393  32468.842059  25561.956895   \n",
      "17      18  31133.326257  21899.992984  17153.107641  20533.434338   \n",
      "18      19  49937.833324  46030.495239  46746.506684  43109.302338   \n",
      "19      20  16776.577493  20468.685954  25320.621029  24036.472073   \n",
      "20      21  32188.312555  31159.578900  32352.266891  28810.929111   \n",
      "21      22  10930.227074  14670.548632  21623.897909  15449.251169   \n",
      "22      23  16001.606312  13678.099220  16024.473570  14482.116106   \n",
      "\n",
      "         canal 5        canal 6        canal 7        canal 8  \n",
      "0   12091.060945   22798.213463   23700.620349   25606.065340  \n",
      "1   17058.433161   63983.449318   53715.460772   66403.639479  \n",
      "2   46513.737045  251649.394709  179345.438488  262361.180410  \n",
      "3   22594.339745  128314.264805  128888.485633  152799.284248  \n",
      "4   56552.175747  287105.761622  222745.793414  353312.298104  \n",
      "5   15784.724049   50730.233172   50742.237835   73694.061647  \n",
      "6   14789.173543   43302.825848   42560.941845   39043.973220  \n",
      "7   11297.742247   38701.647608   41828.973929   61328.610990  \n",
      "8    8154.941858   28970.848994   40705.897395   36624.858559  \n",
      "9   19932.315538   65161.432397   60552.834862   58441.048743  \n",
      "10  31330.549186   93696.128392   67690.908167  111124.343428  \n",
      "11  65792.625436  458631.543464  400266.637762  554127.580214  \n",
      "12  30054.971601   22088.181162   18262.518633   18454.068489  \n",
      "13  25296.654765   67961.116232   74866.179511  103522.441839  \n",
      "14  18373.335858   85398.723929   59948.779883   72367.809030  \n",
      "15  25040.406700  122738.018441  103327.500981  100845.843964  \n",
      "16  23415.623101   57294.133077   54829.651258   59700.873328  \n",
      "17  31864.375631   79797.786103   74152.811380   66497.823839  \n",
      "18  42923.267828  424838.119622  283345.547804  408902.026150  \n",
      "19  20723.732743   76391.356727   60599.129053   81585.412935  \n",
      "20  25368.624860   59526.213049   66204.132354   69036.969842  \n",
      "21  13471.035295   28974.383402   31469.428045   32535.921202  \n",
      "22  14723.843472   31443.053250   28191.962386   33117.421322  \n"
     ]
    }
   ],
   "source": [
    "# Sujetos Parkinson\n",
    "df_Parkinson=dataFr(parkinson) # Llama a la función dataFr para crear un DataFrame de Pandas con la información de los sujetos de parkinson\n",
    "print(df_Parkinson) # Imprime el DataFrame completo en la consola"
   ]
  },
  {
   "cell_type": "markdown",
   "metadata": {},
   "source": [
    "3.\tDetermine si existe diferencia estadística entre canales de cada grupo de sujetos a través de una prueba t. Compruebe los supuestos necesarios para realizar una prueba t, esto es: Normalidad de la variable, independencia (se asume que los grupos son independientes), y homocedasticidad (use una prueba de Levene), finalmente realice la prueba t para determinar si existen diferencias entre los canales entre grupos de sujetos. De no cumplirse los requisitos, realice entonces un análisis no paramétrico (prueba U de Mann-Whitney). Este numeral tiene como objetivo identificar los canales que entregan información diferencial entre pacientes Sanos y con enfermedad de Parkinson."
   ]
  },
  {
   "cell_type": "code",
   "execution_count": 82,
   "metadata": {},
   "outputs": [],
   "source": [
    "# Prueba de normalidad\n",
    "def Test_norm(data, alpha):\n",
    "    \"\"\"\n",
    "    Realiza una prueba de normalidad para cada columna de un DataFrame.\n",
    "\n",
    "    Args:\n",
    "        data: Un DataFrame de Pandas donde la primera columna contiene los nombres de los sujetos y las siguientes columnas contienen los datos a evaluar.\n",
    "        alpha: El nivel de significancia para la prueba de hipótesis.\n",
    "\n",
    "    Returns:\n",
    "        Imprime un mensaje indicando si cada columna se distribuye de forma normal o no.\n",
    "    \"\"\"\n",
    "\n",
    "    for i in data.columns[1:]:  # Itera sobre todas las columnas a partir de la segunda (los canales)\n",
    "        [statistic, pvalue] = stats.normaltest(data[i])  # Aplica la prueba de normalidad de Shapiro-Wilk a la columna actual\n",
    "        if pvalue > alpha:  # Si el valor p es mayor que el nivel de significancia\n",
    "            print(f'El {i} distribuye normal')  # Se concluye que la columna se distribuye de forma normal\n",
    "        else:\n",
    "            print(f'El {i} no distribuye normal')  # Se concluye que la columna no se distribuye de forma normal"
   ]
  },
  {
   "cell_type": "code",
   "execution_count": 83,
   "metadata": {},
   "outputs": [
    {
     "name": "stdout",
     "output_type": "stream",
     "text": [
      "Prueba normalidad control:\n",
      "El canal 1 distribuye normal\n",
      "El canal 2 no distribuye normal\n",
      "El canal 3 no distribuye normal\n",
      "El canal 4 no distribuye normal\n",
      "El canal 5 no distribuye normal\n",
      "El canal 6 no distribuye normal\n",
      "El canal 7 no distribuye normal\n",
      "El canal 8 no distribuye normal\n",
      " \n",
      "Prueba normalidad parkinson:\n",
      "El canal 1 distribuye normal\n",
      "El canal 2 no distribuye normal\n",
      "El canal 3 no distribuye normal\n",
      "El canal 4 no distribuye normal\n",
      "El canal 5 no distribuye normal\n",
      "El canal 6 no distribuye normal\n",
      "El canal 7 no distribuye normal\n",
      "El canal 8 no distribuye normal\n"
     ]
    }
   ],
   "source": [
    "print(\"Prueba normalidad control:\")\n",
    "Test_norm(df_control, 0.05)  # Llama a la función Test_norm para evaluar la normalidad de los datos de control.\n",
    "print(\" \\nPrueba normalidad parkinson:\")\n",
    "Test_norm(df_Parkinson, 0.05)  # Llama a la función Test_norm para evaluar la normalidad de los datos de Parkinson."
   ]
  },
  {
   "cell_type": "code",
   "execution_count": 84,
   "metadata": {},
   "outputs": [],
   "source": [
    "# Prueba de homocedasticidad\n",
    "def Test_hom(data, alpha):\n",
    "    \"\"\"\n",
    "    Realiza una prueba de homocedasticidad utilizando la prueba de Levene.\n",
    "\n",
    "    Args:\n",
    "        data: Un DataFrame de Pandas con los datos numéricos.\n",
    "        alpha: El nivel de significancia para la prueba de hipótesis.\n",
    "\n",
    "    Returns:\n",
    "        Imprime el valor p de la prueba y una conclusión sobre si se cumple o no el supuesto de homocedasticidad.\n",
    "    \"\"\"\n",
    "\n",
    "    data = data[1:]  # Se eliminan las primeras columnas (no numéricas) para la prueba\n",
    "    [statistic, pvalue] = stats.levene(*[data[col] for col in data.columns])  # Prueba de Levene sobre todas las columnas numéricas\n",
    "    print(f'Valor p: {pvalue}')  # Imprime el valor p de la prueba\n",
    "    if pvalue > alpha:  # Si el valor p es mayor que el nivel de significancia\n",
    "        print('Cumple supuesto de homocedasticidad')  # Las varianzas no son significativamente diferentes\n",
    "    else:\n",
    "        print('No cumple supuesto de homocedasticidad')"
   ]
  },
  {
   "cell_type": "code",
   "execution_count": 85,
   "metadata": {},
   "outputs": [
    {
     "name": "stdout",
     "output_type": "stream",
     "text": [
      "Prueba Homocedasticidad control:\n",
      "Valor p: 4.768371886543356e-13\n",
      "No cumple supuesto de homocedasticidad\n",
      " \n",
      "Prueba Homocedasticidad parkinson:\n",
      "Valor p: 1.315590917554413e-05\n",
      "No cumple supuesto de homocedasticidad\n"
     ]
    }
   ],
   "source": [
    "print(\"Prueba Homocedasticidad control:\") \n",
    "Test_hom(df_control,0.05) # Llama a la función Test_hom para evaluar la normalidad de los datos de control.\n",
    "print(\" \\nPrueba Homocedasticidad parkinson:\")\n",
    "Test_hom(df_Parkinson,0.05) # Llama a la función Test_hom para evaluar la normalidad de los datos de parkinson."
   ]
  },
  {
   "cell_type": "code",
   "execution_count": 86,
   "metadata": {},
   "outputs": [],
   "source": [
    "def Mann_whit(data1, nombre1, data2, nombre2, alpha, a):\n",
    "    \"\"\"\n",
    "    Realiza la prueba de Mann-Whitney-U para comparar dos muestras independientes.\n",
    "\n",
    "    Args:\n",
    "        data1: DataFrame que contiene los datos del primer grupo.\n",
    "        nombre1: Nombre del primer grupo.\n",
    "        data2: DataFrame que contiene los datos del segundo grupo.\n",
    "        nombre2: Nombre del segundo grupo.\n",
    "        alpha: Nivel de significancia para la prueba.\n",
    "        a: Índice de la columna (canal) a comparar.\n",
    "\n",
    "    Returns:\n",
    "        Imprime un mensaje indicando si existe una diferencia significativa entre los dos grupos en el canal especificado, y el valor p de la prueba.\n",
    "    \"\"\"\n",
    "\n",
    "    [statistic, pvalue] = stats.mannwhitneyu(data1[a], data2[a])  # Calcula la estadística de prueba y el valor p\n",
    "    if pvalue < alpha:\n",
    "        print(f'Existe diferencia significativa entre el {a} de los grupos {nombre1} y {nombre2}')\n",
    "    else:\n",
    "        print(f'No existe diferencia significativa entre el {a} de los grupos {nombre1} y {nombre2}')\n",
    "    print(f'Valor p: {pvalue} \\n')"
   ]
  },
  {
   "cell_type": "code",
   "execution_count": 87,
   "metadata": {},
   "outputs": [
    {
     "name": "stdout",
     "output_type": "stream",
     "text": [
      "No existe diferencia significativa entre el canal 1 de los grupos control y parkinson\n",
      "Valor p: 0.2028502857862456 \n",
      "\n",
      "No existe diferencia significativa entre el canal 2 de los grupos control y parkinson\n",
      "Valor p: 0.28526410144447967 \n",
      "\n",
      "No existe diferencia significativa entre el canal 3 de los grupos control y parkinson\n",
      "Valor p: 0.23018644453671783 \n",
      "\n",
      "No existe diferencia significativa entre el canal 4 de los grupos control y parkinson\n",
      "Valor p: 0.11723092478279912 \n",
      "\n",
      "No existe diferencia significativa entre el canal 5 de los grupos control y parkinson\n",
      "Valor p: 0.28000875298727834 \n",
      "\n",
      "No existe diferencia significativa entre el canal 6 de los grupos control y parkinson\n",
      "Valor p: 0.14003738246423714 \n",
      "\n",
      "No existe diferencia significativa entre el canal 7 de los grupos control y parkinson\n",
      "Valor p: 0.05915040786446003 \n",
      "\n",
      "No existe diferencia significativa entre el canal 8 de los grupos control y parkinson\n",
      "Valor p: 0.07527214679357204 \n",
      "\n"
     ]
    }
   ],
   "source": [
    "# Itera sobre las columnas del DataFrame df_control, excluyendo la primera columna.\n",
    "for i in df_control.columns[1:]:\n",
    "    Mann_whit(df_control,\"control\",df_Parkinson,\"parkinson\",0.05,i)"
   ]
  },
  {
   "cell_type": "markdown",
   "metadata": {},
   "source": [
    "Se utiliza la enrgia promedio realizada en el punto dos para determinar si existe diferencia estadística entre canales de cada grupo de sujetos, para ello se realizan los supuestos (Normalidad, homocedasticidad) y determinar si los datos siquen una distribucion normal (Pruebas Parametricas) o si los datos no siguen una distribución normal (Pruebas no parametricas).\n",
    "En nuestro caso los resultados de normalidad indican que solo el canal 1 distribuye de forma normal en ambos grupos, mientras que los demás canales no siguen una distribución normal. Esto implica que no se cumple el supuesto de normalidad y por tanto la prueba t de Student no es adecuada para comparar los canales y se deberia recurrir  a un análisis no paramétrico. En la prueba de homocedasticidad el resultado para ambos grupos mostro valores p muy pequeños (4.76e-13 para el grupo control y 1.31e-05 para el grupo Parkinson), lo que indica que no se cumple el supuesto de homocedasticidad. ESto corrobora que se nesecita realizae la prueba de Mann-Whitney.\n",
    "\n",
    "Se realiza la prueba de Mann-Whitney y Dado que los valores p son todos mayores que el umbral común de significancia (α=0.05), no hay evidencia suficiente para afirmar que existe una diferencia significativa entre los grupos control y Parkinson en ningún canal. Sin embargo, los canales 7 y 8 muestran valores p cercanos al umbral de significancia, lo que sugiere que podría haber una tendencia hacia una diferencia en esos canales, aunque no es concluyente en este análisis.\n",
    "\n",
    "**planteamento de hipótesis**\n",
    "\n",
    "Hipótesis nula: No existe diferencia significativa en la distribución de la energía de los canales de EEG entre los pacientes con Parkinson y los sujetos control.\n",
    "\n",
    "Hipótesis alternativa: Existe una diferencia significativa en la distribución de la energía de los canales de EEG entre los pacientes con Parkinson y los sujetos control.\n",
    "\n",
    "Para todos los canales, los valores p son mayores a 0.05, lo que significa que no se puede rechazar la hipótesis nula en ninguno de los canales. En conclusion no se encontro diferencias estadísticamente significativas en la energía de los canales de EEG entre los pacientes con Parkinson y los sujetos control."
   ]
  }
 ],
 "metadata": {
  "kernelspec": {
   "display_name": "base",
   "language": "python",
   "name": "python3"
  },
  "language_info": {
   "codemirror_mode": {
    "name": "ipython",
    "version": 3
   },
   "file_extension": ".py",
   "mimetype": "text/x-python",
   "name": "python",
   "nbconvert_exporter": "python",
   "pygments_lexer": "ipython3",
   "version": "3.8.8"
  }
 },
 "nbformat": 4,
 "nbformat_minor": 2
}
