{
 "cells": [
  {
   "cell_type": "markdown",
   "metadata": {},
   "source": [
    "Luisa Fernanda Enciso Franco\n",
    "1002480112"
   ]
  },
  {
   "cell_type": "markdown",
   "metadata": {},
   "source": [
    "A. Cree el siguiente par de vectores:\n",
    "a = [3.1,1, -0.5, -3.2, 6], b= [1, 3, 2.2, 5.1, 1]"
   ]
  },
  {
   "cell_type": "code",
   "execution_count": 3,
   "metadata": {},
   "outputs": [
    {
     "name": "stdout",
     "output_type": "stream",
     "text": [
      "Vector a:  [3.1, 1, -0.5, -3.2, 6]\n",
      "Vector b:  [1, 3, 2.2, 5.1, 1]\n"
     ]
    }
   ],
   "source": [
    "a = [3.1,1, -0.5, -3.2, 6]\n",
    "b= [1, 3, 2.2, 5.1, 1]\n",
    "print (\"Vector a: \",a)\n",
    "print (\"Vector b: \",b)"
   ]
  },
  {
   "cell_type": "markdown",
   "metadata": {},
   "source": [
    "B. Implemente la multiplicación escalar de a.b ¿Qué se debe realizar para poder multiplicar los dos vectores?"
   ]
  },
  {
   "cell_type": "code",
   "execution_count": 6,
   "metadata": {},
   "outputs": [
    {
     "name": "stdout",
     "output_type": "stream",
     "text": [
      "Producto escalar:  -5.32\n"
     ]
    }
   ],
   "source": [
    "import numpy as np\n",
    "a = np.array ([3.1,1, -0.5, -3.2, 6])\n",
    "b = np.array ([1, 3, 2.2, 5.1, 1])\n",
    "\n",
    "producto = np.dot(a,b)\n",
    "\n",
    "print(\"Producto escalar: \",producto)"
   ]
  },
  {
   "cell_type": "markdown",
   "metadata": {},
   "source": [
    "C. Implemente la multiplicación punto a punto de a.b."
   ]
  },
  {
   "cell_type": "code",
   "execution_count": 8,
   "metadata": {},
   "outputs": [
    {
     "name": "stdout",
     "output_type": "stream",
     "text": [
      "Producto punto:  [  3.1    3.    -1.1  -16.32   6.  ]\n"
     ]
    }
   ],
   "source": [
    "pro_punto=a*b\n",
    "print(\"Producto punto: \", pro_punto)"
   ]
  },
  {
   "cell_type": "markdown",
   "metadata": {},
   "source": [
    "D. Construya la siguiente matriz\n",
    "A = [2 -1 -3; 4 1.5 -2.5; 7.3 -0.9 0.2]"
   ]
  },
  {
   "cell_type": "code",
   "execution_count": 9,
   "metadata": {},
   "outputs": [
    {
     "name": "stdout",
     "output_type": "stream",
     "text": [
      "[[ 2.  -1.  -3. ]\n",
      " [ 4.   1.5 -2.5]\n",
      " [ 7.3 -0.9  0.2]]\n"
     ]
    }
   ],
   "source": [
    "A = np.array([[2, -1, -3],\n",
    "              [4, 1.5, -2.5],\n",
    "              [7.3, -0.9, 0.2]])\n",
    "\n",
    "print(A)"
   ]
  },
  {
   "cell_type": "markdown",
   "metadata": {},
   "source": [
    "E. Obtenga su transpuesta"
   ]
  },
  {
   "cell_type": "code",
   "execution_count": 10,
   "metadata": {},
   "outputs": [
    {
     "data": {
      "text/plain": [
       "array([[ 2. ,  4. ,  7.3],\n",
       "       [-1. ,  1.5, -0.9],\n",
       "       [-3. , -2.5,  0.2]])"
      ]
     },
     "execution_count": 10,
     "metadata": {},
     "output_type": "execute_result"
    }
   ],
   "source": [
    "A.T"
   ]
  },
  {
   "cell_type": "markdown",
   "metadata": {},
   "source": [
    "F. Consulte la función de los siguientes comandos de la librería numpy: ones, round, ceil, floor, implemente cada función para ejemplificar su uso."
   ]
  },
  {
   "cell_type": "code",
   "execution_count": 12,
   "metadata": {},
   "outputs": [
    {
     "name": "stdout",
     "output_type": "stream",
     "text": [
      "Ones:  [[1. 1.]\n",
      " [1. 1.]\n",
      " [1. 1.]]\n",
      "Round:  [2. 4. 8.]\n",
      "Ceil:  [2. 4. 9.]\n",
      "Floor [1. 3. 8.]\n"
     ]
    }
   ],
   "source": [
    "# ONES: Crear un arreglo cuyos elementos son todos uno.\n",
    "uno=np.ones((3,2))\n",
    "print(\"Ones: \",uno)\n",
    "\n",
    "e = np.array([1.5, 3.9, 8.4])\n",
    "# ROUND: Redondea los valores del array al número entero más cercano.\n",
    "rounded = np.round(e)\n",
    "print(\"Round: \",rounded)\n",
    "# CEIL:  Redondea los valores del array hacia arriba al entero más cercano.\n",
    "ceils = np.ceil(e)\n",
    "print(\"Ceil: \",ceils)\n",
    "#FLOOR: Redondea los valores del array hacia abajo al entero más cercano.\n",
    "floors = np.floor(e)\n",
    "print(\"Floor\", floors)"
   ]
  },
  {
   "cell_type": "markdown",
   "metadata": {},
   "source": [
    "G.Acceda al valor de la primera fila, tercera columna de la matriz A, imprímalo en consola."
   ]
  },
  {
   "cell_type": "code",
   "execution_count": 13,
   "metadata": {},
   "outputs": [
    {
     "name": "stdout",
     "output_type": "stream",
     "text": [
      "Valor en la primera fila, tercera columna: -3.0\n"
     ]
    }
   ],
   "source": [
    "valor = A[0, 2]\n",
    "print(\"Valor en la primera fila, tercera columna:\", valor)"
   ]
  },
  {
   "cell_type": "markdown",
   "metadata": {},
   "source": [
    "H. Obtenga la segunda fila de dicha matriz, imprímalo en consola. "
   ]
  },
  {
   "cell_type": "code",
   "execution_count": 14,
   "metadata": {},
   "outputs": [
    {
     "name": "stdout",
     "output_type": "stream",
     "text": [
      "Segunda fila: [ 4.   1.5 -2.5]\n"
     ]
    }
   ],
   "source": [
    "segunda_fila = A[1]\n",
    "print(\"Segunda fila:\", segunda_fila)"
   ]
  },
  {
   "cell_type": "markdown",
   "metadata": {},
   "source": [
    "I. Consulte el comando para conocer las dimensiones de una matriz, utilícelo con la matriz A e imprímalo en consola."
   ]
  },
  {
   "cell_type": "code",
   "execution_count": 15,
   "metadata": {},
   "outputs": [
    {
     "name": "stdout",
     "output_type": "stream",
     "text": [
      "Dimensiones de la matriz A: (3, 3)\n"
     ]
    }
   ],
   "source": [
    "dimensiones = A.shape\n",
    "print(\"Dimensiones de la matriz A:\", dimensiones)"
   ]
  },
  {
   "cell_type": "markdown",
   "metadata": {},
   "source": [
    "J. Construya la función  y[n]=sin⁡(π*0.12n) en el intervalo 0 <= n <= 100."
   ]
  },
  {
   "cell_type": "code",
   "execution_count": 25,
   "metadata": {},
   "outputs": [],
   "source": [
    "# Definir el intervalo para n\n",
    "n = np.arange(0, 101)\n",
    "\n",
    "# Calcular y[n] \n",
    "y = np.sin(np.pi * 0.12 * n)"
   ]
  },
  {
   "cell_type": "markdown",
   "metadata": {},
   "source": [
    "K.Construya otra senoidal y2[n]=cos⁡(2π*0.03n) "
   ]
  },
  {
   "cell_type": "code",
   "execution_count": 24,
   "metadata": {},
   "outputs": [],
   "source": [
    "# Calcular y2[n] \n",
    "y2=np.sin(2*np.pi * 0.03*n)"
   ]
  },
  {
   "cell_type": "markdown",
   "metadata": {},
   "source": [
    "L. \tGenere una tercera señal que sea la suma de estas dos señales, es decir s[n]=y[n]+y2[n] y una cuarta, que sea el producto de estas, t[n]=y[n].y2[n]."
   ]
  },
  {
   "cell_type": "code",
   "execution_count": 18,
   "metadata": {},
   "outputs": [],
   "source": [
    "# Tercera señal\n",
    "s = y + y2\n",
    "# Cuarta señal\n",
    "t = y * y2"
   ]
  },
  {
   "cell_type": "markdown",
   "metadata": {},
   "source": [
    "M. Graficar en la misma figura las señales y[n] y y2[n], utilice leyenda y colores diferentes para cada señal. Asigne título a cada eje."
   ]
  },
  {
   "cell_type": "code",
   "execution_count": 23,
   "metadata": {},
   "outputs": [
    {
     "data": {
      "image/png": "[encoded data removed]",
      "text/plain": [
       "<Figure size 432x288 with 1 Axes>"
      ]
     },
     "metadata": {
      "needs_background": "light"
     },
     "output_type": "display_data"
    }
   ],
   "source": [
    "import matplotlib.pyplot as plt\n",
    "# Graficar y[n]\n",
    "plt.plot(n, y, label='y[n]', color='#1f77b4')\n",
    "\n",
    "# Graficar y2[n]\n",
    "plt.plot(n, y2, label='y2[n]', color='#9467bd')\n",
    "\n",
    "# Añadir leyenda\n",
    "plt.legend()\n",
    "\n",
    "# Asignar titulos a los ejes\n",
    "plt.xlabel('n')\n",
    "plt.ylabel('Amplitud')\n",
    "\n",
    "# Asignar título a la gráfica\n",
    "plt.title('Comparación de las señales y[n] y y2[n]')\n",
    "\n",
    "# Mostrar la grafica\n",
    "plt.show()"
   ]
  },
  {
   "cell_type": "markdown",
   "metadata": {},
   "source": [
    "N. Graficar en la misma figura las señales s[n] y t[n], utilice leyenda y colores diferentes para cada señal. Asigne título a cada eje."
   ]
  },
  {
   "cell_type": "code",
   "execution_count": 22,
   "metadata": {},
   "outputs": [
    {
     "data": {
      "image/png": "[encoded data removed]",
      "text/plain": [
       "<Figure size 432x288 with 1 Axes>"
      ]
     },
     "metadata": {
      "needs_background": "light"
     },
     "output_type": "display_data"
    }
   ],
   "source": [
    "# Graficar y[n]\n",
    "plt.plot(n, s, label='s[n]', color='#1f77b4')\n",
    "\n",
    "# Graficar y2[n]\n",
    "plt.plot(n, t, label='t[n]', color='#9467bd')\n",
    "\n",
    "# Añadir leyenda\n",
    "plt.legend()\n",
    "\n",
    "# Asignar titulos a los ejes\n",
    "plt.xlabel('n')\n",
    "plt.ylabel('Amplitud')\n",
    "\n",
    "# Asignar título a la gráfica\n",
    "plt.title('Comparación de las señales s[n] y t[n]')\n",
    "\n",
    "# Mostrar la grafica\n",
    "plt.show()"
   ]
  },
  {
   "cell_type": "markdown",
   "metadata": {},
   "source": [
    "¡RETO!\n",
    "Escribir una función que reciba un diccionario con las notas de los alumnos de un curso y devuelva una serie con la nota minima, la maxima, media y la desviación tipica."
   ]
  },
  {
   "cell_type": "code",
   "execution_count": 10,
   "metadata": {},
   "outputs": [
    {
     "name": "stdout",
     "output_type": "stream",
     "text": [
      "Minima               1.200000\n",
      "Maxima               4.800000\n",
      "Media                3.260000\n",
      "Desviacion Tipica    1.451895\n",
      "dtype: float64\n"
     ]
    }
   ],
   "source": [
    "import pandas as pd\n",
    "\n",
    "def estadisticas(notas_):\n",
    "    \"\"\"\n",
    "    Calcula estadísticas básicas de un conjunto de notas.\n",
    "    Argumento:\n",
    "        notas_ (dict): Un diccionario donde las claves son los nombres de los alumnos y los valores son sus notas.\n",
    "\n",
    "    Returns:\n",
    "        pd.Series: Una serie de pandas que contiene las estadísticas calculadas:\n",
    "            - Minima: La nota mínima.\n",
    "            - Maxima: La nota máxima.\n",
    "            - Media: El promedio de las notas.\n",
    "            - Desviacion Tipica: La desviación estándar de las notas.\n",
    "    \"\"\"\n",
    "    notas_list = list(notas_.values()) # Extrae los valores del diccionario y los convierte en una lista\n",
    "    estadisticas = {\n",
    "        'Minima': min(notas_list),\n",
    "        'Maxima': max(notas_list),\n",
    "        'Media': sum(notas_list) / len(notas_list),\n",
    "        'Desviacion Tipica': pd.Series(notas_list).std()\n",
    "    }\n",
    "    return pd.Series(estadisticas)\n",
    "\n",
    "notas_alumnos = {\n",
    "    'Luisa Enciso': 4.5,\n",
    "    'Carlos Martinez': 2.8,\n",
    "    'Nicolas Oviedo': 1.2,\n",
    "    'Valentina Medina': 4.8,\n",
    "    'Jeronimo Enciso': 3\n",
    "}\n",
    "\n",
    "resultado = estadisticas(notas_alumnos)\n",
    "print(resultado)"
   ]
  }
 ],
 "metadata": {
  "kernelspec": {
   "display_name": "base",
   "language": "python",
   "name": "python3"
  },
  "language_info": {
   "codemirror_mode": {
    "name": "ipython",
    "version": 3
   },
   "file_extension": ".py",
   "mimetype": "text/x-python",
   "name": "python",
   "nbconvert_exporter": "python",
   "pygments_lexer": "ipython3",
   "version": "3.9.12"
  }
 },
 "nbformat": 4,
 "nbformat_minor": 2
}
