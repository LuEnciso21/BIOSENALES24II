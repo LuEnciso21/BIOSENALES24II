{
 "cells": [
  {
   "cell_type": "markdown",
   "metadata": {},
   "source": [
    "**Jader Stalyn Chingal Atis 1085948736**"
   ]
  },
  {
   "cell_type": "markdown",
   "metadata": {},
   "source": [
    "a. Cree el siguiente par de vectores:\n",
    "   a = [67.1,1, -0.3, 5.2, -6], b= [1, 3, 2.2, 5.1, 1]"
   ]
  },
  {
   "cell_type": "code",
   "execution_count": 352,
   "metadata": {},
   "outputs": [
    {
     "name": "stdout",
     "output_type": "stream",
     "text": [
      "Vector a: [67.1  1.  -0.3  5.2 -6. ]\n",
      "Vector b: [1.  3.  2.2 5.1 1. ]\n"
     ]
    }
   ],
   "source": [
    "import numpy as np\n",
    "import matplotlib.pyplot as plt\n",
    "import pandas as pd\n",
    "\n",
    "a = np.array([67.1, 1, -0.3, 5.2, -6]); b = np.array([1, 3, 2.2, 5.1, 1])\n",
    "print(\"Vector a:\", a)\n",
    "print(\"Vector b:\", b)"
   ]
  },
  {
   "cell_type": "markdown",
   "metadata": {},
   "source": [
    "b. Implemente la multiplicación escalar de a.b ¿Qué se debe realizar para poder multiplicar los dos vectores?\n"
   ]
  },
  {
   "cell_type": "code",
   "execution_count": 353,
   "metadata": {},
   "outputs": [
    {
     "name": "stdout",
     "output_type": "stream",
     "text": [
      "Producto escalar: 89.96\n"
     ]
    }
   ],
   "source": [
    "producto_escalar = np.dot(a,b)\n",
    "print(\"Producto escalar:\", producto_escalar)"
   ]
  },
  {
   "cell_type": "markdown",
   "metadata": {},
   "source": [
    "c. Implemente la multiplicación punto a punto de a.b."
   ]
  },
  {
   "cell_type": "code",
   "execution_count": 354,
   "metadata": {},
   "outputs": [
    {
     "name": "stdout",
     "output_type": "stream",
     "text": [
      "Multiplicacion punto a punto: [67.1   3.   -0.66 26.52 -6.  ]\n"
     ]
    }
   ],
   "source": [
    "multiplicacion = np.multiply(a,b)\n",
    "print(\"Multiplicacion punto a punto:\", multiplicacion)"
   ]
  },
  {
   "cell_type": "markdown",
   "metadata": {},
   "source": [
    "d. Construya la siguiente matriz:\n",
    "𝐴 = [\n",
    "2 −1 −3\n",
    "4 −1.5 −2.5\n",
    "7.3 −0.9 −0.2\n",
    "]"
   ]
  },
  {
   "cell_type": "code",
   "execution_count": 355,
   "metadata": {},
   "outputs": [
    {
     "name": "stdout",
     "output_type": "stream",
     "text": [
      "Matriz A: [[ 2.  -1.  -3. ]\n",
      " [ 4.  -1.5 -2.5]\n",
      " [ 7.3 -0.9 -0.2]]\n"
     ]
    }
   ],
   "source": [
    "A = np.array([[2, -1, -3], [4, -1.5, -2.5], [7.3, -0.9, -0.2]])\n",
    "print(\"Matriz A:\", A)"
   ]
  },
  {
   "cell_type": "markdown",
   "metadata": {},
   "source": [
    "e. Obtenga su transpuesta AT.\n"
   ]
  },
  {
   "cell_type": "code",
   "execution_count": 356,
   "metadata": {},
   "outputs": [
    {
     "name": "stdout",
     "output_type": "stream",
     "text": [
      "Matriz transpuesta: [[ 2.   4.   7.3]\n",
      " [-1.  -1.5 -0.9]\n",
      " [-3.  -2.5 -0.2]]\n"
     ]
    }
   ],
   "source": [
    "matriz_transpuesta = A.T\n",
    "print(\"Matriz transpuesta:\", matriz_transpuesta)"
   ]
  },
  {
   "cell_type": "markdown",
   "metadata": {},
   "source": [
    "f. Consulte la función de los siguientes comandos de la librería numpy: ones, round, ceil, floor,\n",
    "implemente cada función para ejemplificar su uso."
   ]
  },
  {
   "cell_type": "code",
   "execution_count": 357,
   "metadata": {},
   "outputs": [
    {
     "name": "stdout",
     "output_type": "stream",
     "text": [
      "array lleno de unos:\n",
      " [[1. 1. 1. 1.]\n",
      " [1. 1. 1. 1.]\n",
      " [1. 1. 1. 1.]\n",
      " [1. 1. 1. 1.]]\n",
      "vector 'a' redondeado a cero descimasles:\n",
      " [67.  1. -0.  5. -6.]\n",
      "vector 'b' redondeado al entero mas cercano hacia arriba:\n",
      " [1. 3. 3. 6. 1.]\n",
      "vector 'b' redondeado al entero mas cercano hacia abajo:\n",
      " [1. 3. 2. 5. 1.]\n"
     ]
    }
   ],
   "source": [
    "# \"numpy.ones()\"\n",
    "# El comando \"ones\" crea un array lleno de unos.\n",
    "ones = np.ones((4, 4))\n",
    "print(\"array lleno de unos:\\n\", ones)\n",
    "\n",
    "# \"numpy.round()\"\n",
    "# redondea los valores de un array a un número especificado de decimales.\n",
    "round = np.round(a, 0)\n",
    "print(\"vector 'a' redondeado a cero descimasles:\\n\", round)\n",
    "\n",
    "# \"numpy.ceil()\"\n",
    "# redondea cada calor de un array hacia arriba al entero mas cercano.\n",
    "ceil = np.ceil(b)\n",
    "print(\"vector 'b' redondeado al entero mas cercano hacia arriba:\\n\", ceil)\n",
    "\n",
    "# \"numpy.floor()\"\n",
    "#  redondea cada valor de un array hacia abajo al entero más cercano.\n",
    "floor = np.floor(b)\n",
    "print (\"vector 'b' redondeado al entero mas cercano hacia abajo:\\n\", floor)\n"
   ]
  },
  {
   "cell_type": "markdown",
   "metadata": {},
   "source": [
    "g. Acceda al valor de la primera fila, tercera columna de la matriz A, imprímalo en consola."
   ]
  },
  {
   "cell_type": "code",
   "execution_count": 358,
   "metadata": {},
   "outputs": [
    {
     "name": "stdout",
     "output_type": "stream",
     "text": [
      "valor de la primera fila, tercera columna:\n",
      " -3.0\n"
     ]
    }
   ],
   "source": [
    "valor = A[0, 2]\n",
    "print(\"valor de la primera fila, tercera columna:\\n\", valor)"
   ]
  },
  {
   "cell_type": "markdown",
   "metadata": {},
   "source": [
    "h. Obtenga la segunda fila de dicha matriz, imprímalo en consola."
   ]
  },
  {
   "cell_type": "code",
   "execution_count": 359,
   "metadata": {},
   "outputs": [
    {
     "name": "stdout",
     "output_type": "stream",
     "text": [
      "Segunda fila de la matriz A:\n",
      " [ 4.  -1.5 -2.5]\n"
     ]
    }
   ],
   "source": [
    "segunda_fila = A[1]\n",
    "print(\"Segunda fila de la matriz A:\\n\", segunda_fila)"
   ]
  },
  {
   "cell_type": "markdown",
   "metadata": {},
   "source": [
    "i. Consulte el comando para conocer las dimensiones de una matriz, utilícelo con la matriz A e\n",
    "imprímalo en consola."
   ]
  },
  {
   "cell_type": "code",
   "execution_count": 360,
   "metadata": {},
   "outputs": [
    {
     "name": "stdout",
     "output_type": "stream",
     "text": [
      "Dimensiones de la matriz A: (3, 3)\n"
     ]
    }
   ],
   "source": [
    "# El comando .shape permite conocer la dimension de un array\n",
    "D = A.shape\n",
    "print(\"Dimensiones de la matriz A:\", D)"
   ]
  },
  {
   "cell_type": "markdown",
   "metadata": {},
   "source": [
    "j. Construya la función 𝑦[𝑛] = sin (𝜋 ∗ 0.18𝑛) en el intervalo 0 <= n <= 80.\n"
   ]
  },
  {
   "cell_type": "code",
   "execution_count": 361,
   "metadata": {},
   "outputs": [],
   "source": [
    "n = np.arange(0, 81)\n",
    "y = np.sin(np.pi*0.18*n)"
   ]
  },
  {
   "cell_type": "markdown",
   "metadata": {},
   "source": [
    "k. Construya otra senoidal 𝑦2[𝑛] = cos(2𝜋 ∗ 0.03𝑛)"
   ]
  },
  {
   "cell_type": "code",
   "execution_count": 362,
   "metadata": {},
   "outputs": [],
   "source": [
    "y2 = np.cos(2*np.pi*0.03*n)"
   ]
  },
  {
   "cell_type": "markdown",
   "metadata": {},
   "source": [
    "l. Genere una tercera señal que sea la suma de estas dos señales, es decir\n",
    "𝑠[𝑛] = y[n] + 𝑦2[𝑛] y una cuarta, que sea el producto de estas, 𝑡[𝑛] = y[n]. 𝑦2[𝑛]."
   ]
  },
  {
   "cell_type": "code",
   "execution_count": 363,
   "metadata": {},
   "outputs": [],
   "source": [
    "# Tercera señal\n",
    "s = y + y2\n",
    "# Cuarta señal\n",
    "t = y * y2\n"
   ]
  },
  {
   "cell_type": "markdown",
   "metadata": {},
   "source": [
    "m. Graficar en la misma figura las señales y[n] y y2[n], utilice leyenda y colores diferentes para cada\n",
    "señal. Asigne título a cada eje."
   ]
  },
  {
   "cell_type": "code",
   "execution_count": 364,
   "metadata": {},
   "outputs": [
    {
     "data": {
      "image/png": "[encoded data removed]",
      "text/plain": [
       "<Figure size 432x288 with 1 Axes>"
      ]
     },
     "metadata": {
      "needs_background": "light"
     },
     "output_type": "display_data"
    }
   ],
   "source": [
    "plt.plot(n, y, label='y[n]', color='red')\n",
    "plt.plot(n, y2, label='y2[n]', color='blue')\n",
    "plt.legend()\n",
    "plt.title(' y[n] Vs y2[n]')\n",
    "plt.xlabel(\"variable independiente 'n'\")\n",
    "plt.ylabel(\"variable dependiente\")\n",
    "plt.show()"
   ]
  },
  {
   "cell_type": "markdown",
   "metadata": {},
   "source": [
    "n. Graficar en la misma figura las señales s[n] y t[n], utilice leyenda y colores diferentes para cada\n",
    "señal. Asigne título a cada eje."
   ]
  },
  {
   "cell_type": "code",
   "execution_count": 365,
   "metadata": {},
   "outputs": [
    {
     "data": {
      "image/png": "[encoded data removed]",
      "text/plain": [
       "<Figure size 432x288 with 1 Axes>"
      ]
     },
     "metadata": {
      "needs_background": "light"
     },
     "output_type": "display_data"
    }
   ],
   "source": [
    "plt.plot(n, s, label='s[n]', color='green')\n",
    "plt.plot(n, t, label='t[n]', color='grey')\n",
    "plt.legend()\n",
    "plt.title(' s[n] Vs t[n]')\n",
    "plt.xlabel(\"variable independiente 'n'\")\n",
    "plt.ylabel(\"variable dependiente\")\n",
    "plt.show()"
   ]
  },
  {
   "cell_type": "markdown",
   "metadata": {},
   "source": [
    "¡RETO!\n",
    "Escribir una función que reciba un diccionario con las notas de los alumnos de un curso y devuelva una\n",
    "serie con la nota mínima, la máxima, media y la desviación típica."
   ]
  },
  {
   "cell_type": "code",
   "execution_count": 366,
   "metadata": {},
   "outputs": [
    {
     "name": "stdout",
     "output_type": "stream",
     "text": [
      "Nota mínima          2.90\n",
      "Nota máxima          4.20\n",
      "Nota media           3.52\n",
      "Desviación típica    0.52\n",
      "dtype: float64\n"
     ]
    }
   ],
   "source": [
    "diccionario_notas = {'AlumnoA': 3.0, 'AlumnoB': 2.9, 'AlumnoC': 4.0, 'AlumnoD': 4.2, 'AlumnoE': 3.5}\n",
    "\n",
    "def calcular_notas(diccionario_notas):\n",
    "    notas = np.array(list(diccionario_notas.values()))\n",
    "    nota_minima = np.min(notas)\n",
    "    nota_maxima = np.max(notas)\n",
    "    nota_media = np.mean(notas)\n",
    "    desviacion_tipica = np.std(notas)\n",
    "\n",
    "    # creamos la seri con los valores calculados \n",
    "    resultados = pd.Series({'Nota mínima': nota_minima, 'Nota máxima': nota_maxima, 'Nota media': nota_media, 'Desviación típica': desviacion_tipica})\n",
    "    return resultados\n",
    "resultados = calcular_notas(diccionario_notas)\n",
    "N = np.round(resultados, 2)\n",
    "print(N)"
   ]
  }
 ],
 "metadata": {
  "kernelspec": {
   "display_name": "base",
   "language": "python",
   "name": "python3"
  },
  "language_info": {
   "codemirror_mode": {
    "name": "ipython",
    "version": 3
   },
   "file_extension": ".py",
   "mimetype": "text/x-python",
   "name": "python",
   "nbconvert_exporter": "python",
   "pygments_lexer": "ipython3",
   "version": "3.8.8"
  }
 },
 "nbformat": 4,
 "nbformat_minor": 2
}
