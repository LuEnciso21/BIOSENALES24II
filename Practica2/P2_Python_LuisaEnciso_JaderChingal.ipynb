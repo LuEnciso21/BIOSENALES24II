{
 "cells": [
  {
   "cell_type": "code",
   "execution_count": 24,
   "metadata": {},
   "outputs": [
    {
     "data": {
      "image/png": "[encoded data removed]",
      "text/plain": [
       "<Figure size 432x288 with 1 Axes>"
      ]
     },
     "metadata": {
      "needs_background": "light"
     },
     "output_type": "display_data"
    }
   ],
   "source": [
    "import numpy as np\n",
    "import matplotlib.pyplot as plt\n",
    "\n",
    "n=np.array([-2,-1,0,1,2,3])\n",
    "x=np.array([5,6,7,5,4,3])\n",
    "\n",
    "def impseq(n0, n1, n2):\n",
    "#   Genera x(n) = delta(n-n0); n1 <= n <= n2\n",
    "#\t ----------------------------------------------\n",
    "    n = np.arange(n1,n2+1) # Se crea el vector de muestras\n",
    "    x = (n-n0) == 0\n",
    "    return [x,n]\n",
    "\n",
    "[x,n]=impseq(1,-2,3)\n",
    "plt.stem(n,x)\n",
    "plt.title('Respuesta al impulso')\n",
    "plt.xlabel('n')\n",
    "plt.ylabel('x[n]')\n",
    "plt.grid(True)"
   ]
  },
  {
   "cell_type": "markdown",
   "metadata": {},
   "source": [
    "1. Implemente una función en Python que permita generar una función escalón unitario, definida en un intervalo n1<n0<n2"
   ]
  },
  {
   "cell_type": "code",
   "execution_count": 27,
   "metadata": {},
   "outputs": [
    {
     "data": {
      "image/png": "[encoded data removed]",
      "text/plain": [
       "<Figure size 432x288 with 1 Axes>"
      ]
     },
     "metadata": {
      "needs_background": "light"
     },
     "output_type": "display_data"
    }
   ],
   "source": [
    "n=np.array([-2,-1,0,1,2,3])\n",
    "x=np.array([5,6,7,5,4,3])\n",
    "def unit(n0,n1,n2):\n",
    "  n=np.arange(n1,n2+1)\n",
    "  x=(n-n0)>=0\n",
    "  return [x,n]\n",
    "\n",
    "[x,n]=unit(-1,-2,4)\n",
    "plt.stem(n,x)\n",
    "plt.title('Respuesta al escalón')\n",
    "plt.xlabel('n')\n",
    "plt.ylabel('x[n]')\n",
    "plt.grid(True)"
   ]
  },
  {
   "cell_type": "markdown",
   "metadata": {},
   "source": [
    "2. Implemente una función en Python que permita generar una función rampa, definida en un intervalo n1<n0<n2 con una pendiente m."
   ]
  },
  {
   "cell_type": "code",
   "execution_count": 30,
   "metadata": {},
   "outputs": [
    {
     "data": {
      "image/png": "[encoded data removed]",
      "text/plain": [
       "<Figure size 432x288 with 1 Axes>"
      ]
     },
     "metadata": {
      "needs_background": "light"
     },
     "output_type": "display_data"
    }
   ],
   "source": [
    "def rampa(n0,n1,n2,m):\n",
    "  n=np.arange(n1,n2+1)\n",
    "  x1=(n-n0)>0\n",
    "  x2=np.array(m*(n-n0))\n",
    "  x=x1*x2\n",
    "  return [x,n]\n",
    "[x,n]=rampa(-1,-2,4,2)\n",
    "x\n",
    "plt.stem(n,x)\n",
    "plt.title('Respuesta a la rampa')\n",
    "plt.xlabel('n')\n",
    "plt.ylabel('x[n]')\n",
    "plt.grid(True)"
   ]
  },
  {
   "cell_type": "markdown",
   "metadata": {},
   "source": [
    "3. Genere las siguientes secuencias usando las funciones básicas de Python que se han presentado. Grafique los resultados."
   ]
  },
  {
   "cell_type": "markdown",
   "metadata": {},
   "source": [
    "a. \tx_1 (n)= 3δ(n+1)+5δ(n+3)+3δ(n+2)+3δ(n)+ δ(n). ¿Cómo debe ser el vector de muestras?"
   ]
  },
  {
   "cell_type": "code",
   "execution_count": 31,
   "metadata": {},
   "outputs": [
    {
     "data": {
      "image/png": "[encoded data removed]",
      "text/plain": [
       "<Figure size 432x288 with 1 Axes>"
      ]
     },
     "metadata": {
      "needs_background": "light"
     },
     "output_type": "display_data"
    }
   ],
   "source": [
    "x1=3*impseq(-1,-4,4)[0]+5*impseq(-3,-4,4)[0]+3*impseq(-2,-4,4)[0]+3*impseq(0,-4,4)[0]+impseq(0,-4,4)[0] #secuencia\n",
    "[x,n]=impseq(0,-4,4) #para sacar el intervalo\n",
    "plt.stem(n,x1)\n",
    "plt.title('Secuencias')\n",
    "plt.xlabel('n')\n",
    "plt.ylabel('x[n]')\n",
    "plt.grid(True)"
   ]
  },
  {
   "cell_type": "markdown",
   "metadata": {},
   "source": [
    "b. El siguiente sistema arroja una secuencia definida entre  -6≤n≤6"
   ]
  },
  {
   "cell_type": "code",
   "execution_count": null,
   "metadata": {},
   "outputs": [],
   "source": []
  },
  {
   "cell_type": "markdown",
   "metadata": {},
   "source": [
    "c. El siguiente sistema arroja una secuencia definida entre  0≤n≤100"
   ]
  },
  {
   "cell_type": "code",
   "execution_count": null,
   "metadata": {},
   "outputs": [],
   "source": []
  },
  {
   "cell_type": "markdown",
   "metadata": {},
   "source": [
    "d. \tx_4 (n)= 2r(n+3)-r(n-2)-5u(n-3),-10≤n≤10"
   ]
  },
  {
   "cell_type": "code",
   "execution_count": null,
   "metadata": {},
   "outputs": [],
   "source": []
  },
  {
   "cell_type": "markdown",
   "metadata": {},
   "source": [
    "4. "
   ]
  },
  {
   "cell_type": "code",
   "execution_count": null,
   "metadata": {},
   "outputs": [],
   "source": []
  },
  {
   "cell_type": "markdown",
   "metadata": {},
   "source": [
    "5. Sea x(n)={0,1,2,3,4,5 ̂,4,3,2,1,0,1,2,3,4,5,5,5,5,10,10,10,10}. Genere la secuencia anterior y grafique los resultados. Use las funciones que generó antes para generar la secuencia concatenando secuencias más simples. Además, encuentre las siguientes secuencias:\n",
    "a. x_5 (n)=2x(n-4)+x(n)\n",
    "b. x_6 (n)=〖0.001e〗^0.5n  〖x(n)+10sin〗⁡(0.05πn)x(n+2),-20≤n≤20\n"
   ]
  },
  {
   "cell_type": "code",
   "execution_count": null,
   "metadata": {},
   "outputs": [],
   "source": []
  }
 ],
 "metadata": {
  "kernelspec": {
   "display_name": "base",
   "language": "python",
   "name": "python3"
  },
  "language_info": {
   "codemirror_mode": {
    "name": "ipython",
    "version": 3
   },
   "file_extension": ".py",
   "mimetype": "text/x-python",
   "name": "python",
   "nbconvert_exporter": "python",
   "pygments_lexer": "ipython3",
   "version": "3.9.12"
  }
 },
 "nbformat": 4,
 "nbformat_minor": 2
}
