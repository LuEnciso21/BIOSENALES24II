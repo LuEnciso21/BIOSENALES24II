{
 "cells": [
  {
   "cell_type": "markdown",
   "metadata": {},
   "source": [
    "<div style=\"display: flex; align-items: center;\">\n",
    "    <img alt=\"udeA logo\" height=\"140px\" src=\"https://github.com/freddyduitama/images/blob/master/logo.png?raw=true\" style=\"width:107px;height:152px; margin-right: 40px;\">\n",
    "    <div style=\"text-align: center;\">\n",
    "        <h1><b><font color='0B5345'>Proyecto 4: Clasificación de señales ECG</font></b></h1>\n",
    "        <h2><font color='0B5345'>Proyecto 2024-02</font></h2>\n",
    "        <h3><font color='0B5345'>Luisa Fernanda Enciso - Jader Chingal</font></h3>\n",
    "    </div>\n",
    "</div>"
   ]
  },
  {
   "cell_type": "code",
   "execution_count": 3,
   "metadata": {},
   "outputs": [],
   "source": [
    "import neurokit2 as nk\n",
    "import pandas as pd\n",
    "import seaborn as sns\n",
    "import scipy.signal as signal\n",
    "import os\n",
    "import numpy as np\n",
    "import matplotlib.pyplot as plt\n",
    "from scipy import stats\n",
    "import random\n",
    "from scipy.signal import butter, filtfilt\n",
    "import pywt\n",
    "from scipy.signal import detrend\n",
    "import warnings\n",
    "from scipy.signal import welch\n",
    "from sklearn.metrics import mean_squared_error\n",
    "from skimage.restoration import denoise_nl_means, estimate_sigma\n",
    "from scipy.signal import savgol_filter\n",
    "from statsmodels.nonparametric.smoothers_lowess import lowess\n",
    "warnings.filterwarnings('ignore')\n"
   ]
  },
  {
   "cell_type": "markdown",
   "metadata": {},
   "source": [
    "<hr>\n",
    "\n",
    "Extracción de los registros que corresponden a bradicardia sinusal (SB Sinus Bradycardia) y fibrilación auricular (AFIB Atrial Fibrillation). "
   ]
  },
  {
   "cell_type": "code",
   "execution_count": 4,
   "metadata": {},
   "outputs": [
    {
     "data": {
      "text/html": [
       "<div>\n",
       "<style scoped>\n",
       "    .dataframe tbody tr th:only-of-type {\n",
       "        vertical-align: middle;\n",
       "    }\n",
       "\n",
       "    .dataframe tbody tr th {\n",
       "        vertical-align: top;\n",
       "    }\n",
       "\n",
       "    .dataframe thead th {\n",
       "        text-align: right;\n",
       "    }\n",
       "</style>\n",
       "<table border=\"1\" class=\"dataframe\">\n",
       "  <thead>\n",
       "    <tr style=\"text-align: right;\">\n",
       "      <th></th>\n",
       "      <th>FileName</th>\n",
       "      <th>Rhythm</th>\n",
       "      <th>Beat</th>\n",
       "      <th>PatientAge</th>\n",
       "      <th>Gender</th>\n",
       "      <th>VentricularRate</th>\n",
       "      <th>AtrialRate</th>\n",
       "      <th>QRSDuration</th>\n",
       "      <th>QTInterval</th>\n",
       "      <th>QTCorrected</th>\n",
       "      <th>RAxis</th>\n",
       "      <th>TAxis</th>\n",
       "      <th>QRSCount</th>\n",
       "      <th>QOnset</th>\n",
       "      <th>QOffset</th>\n",
       "      <th>TOffset</th>\n",
       "    </tr>\n",
       "  </thead>\n",
       "  <tbody>\n",
       "    <tr>\n",
       "      <th>0</th>\n",
       "      <td>MUSE_20180113_171327_27000</td>\n",
       "      <td>AFIB</td>\n",
       "      <td>RBBB TWC</td>\n",
       "      <td>85</td>\n",
       "      <td>MALE</td>\n",
       "      <td>117</td>\n",
       "      <td>234</td>\n",
       "      <td>114</td>\n",
       "      <td>356</td>\n",
       "      <td>496</td>\n",
       "      <td>81</td>\n",
       "      <td>-27</td>\n",
       "      <td>19</td>\n",
       "      <td>208</td>\n",
       "      <td>265</td>\n",
       "      <td>386</td>\n",
       "    </tr>\n",
       "    <tr>\n",
       "      <th>1</th>\n",
       "      <td>MUSE_20180112_073319_29000</td>\n",
       "      <td>SB</td>\n",
       "      <td>TWC</td>\n",
       "      <td>59</td>\n",
       "      <td>FEMALE</td>\n",
       "      <td>52</td>\n",
       "      <td>52</td>\n",
       "      <td>92</td>\n",
       "      <td>432</td>\n",
       "      <td>401</td>\n",
       "      <td>76</td>\n",
       "      <td>42</td>\n",
       "      <td>8</td>\n",
       "      <td>215</td>\n",
       "      <td>261</td>\n",
       "      <td>431</td>\n",
       "    </tr>\n",
       "    <tr>\n",
       "      <th>3</th>\n",
       "      <td>MUSE_20180113_121940_44000</td>\n",
       "      <td>SB</td>\n",
       "      <td>NONE</td>\n",
       "      <td>66</td>\n",
       "      <td>MALE</td>\n",
       "      <td>53</td>\n",
       "      <td>53</td>\n",
       "      <td>96</td>\n",
       "      <td>456</td>\n",
       "      <td>427</td>\n",
       "      <td>34</td>\n",
       "      <td>3</td>\n",
       "      <td>9</td>\n",
       "      <td>219</td>\n",
       "      <td>267</td>\n",
       "      <td>447</td>\n",
       "    </tr>\n",
       "    <tr>\n",
       "      <th>5</th>\n",
       "      <td>MUSE_20180112_120347_79000</td>\n",
       "      <td>SB</td>\n",
       "      <td>NONE</td>\n",
       "      <td>46</td>\n",
       "      <td>FEMALE</td>\n",
       "      <td>57</td>\n",
       "      <td>57</td>\n",
       "      <td>70</td>\n",
       "      <td>404</td>\n",
       "      <td>393</td>\n",
       "      <td>38</td>\n",
       "      <td>24</td>\n",
       "      <td>9</td>\n",
       "      <td>225</td>\n",
       "      <td>260</td>\n",
       "      <td>427</td>\n",
       "    </tr>\n",
       "    <tr>\n",
       "      <th>6</th>\n",
       "      <td>MUSE_20180114_075026_69000</td>\n",
       "      <td>AFIB</td>\n",
       "      <td>TWC</td>\n",
       "      <td>80</td>\n",
       "      <td>FEMALE</td>\n",
       "      <td>98</td>\n",
       "      <td>86</td>\n",
       "      <td>74</td>\n",
       "      <td>360</td>\n",
       "      <td>459</td>\n",
       "      <td>69</td>\n",
       "      <td>83</td>\n",
       "      <td>17</td>\n",
       "      <td>215</td>\n",
       "      <td>252</td>\n",
       "      <td>395</td>\n",
       "    </tr>\n",
       "  </tbody>\n",
       "</table>\n",
       "</div>"
      ],
      "text/plain": [
       "                     FileName Rhythm      Beat  PatientAge  Gender  \\\n",
       "0  MUSE_20180113_171327_27000   AFIB  RBBB TWC          85    MALE   \n",
       "1  MUSE_20180112_073319_29000     SB       TWC          59  FEMALE   \n",
       "3  MUSE_20180113_121940_44000     SB      NONE          66    MALE   \n",
       "5  MUSE_20180112_120347_79000     SB      NONE          46  FEMALE   \n",
       "6  MUSE_20180114_075026_69000   AFIB       TWC          80  FEMALE   \n",
       "\n",
       "   VentricularRate  AtrialRate  QRSDuration  QTInterval  QTCorrected  RAxis  \\\n",
       "0              117         234          114         356          496     81   \n",
       "1               52          52           92         432          401     76   \n",
       "3               53          53           96         456          427     34   \n",
       "5               57          57           70         404          393     38   \n",
       "6               98          86           74         360          459     69   \n",
       "\n",
       "   TAxis  QRSCount  QOnset  QOffset  TOffset  \n",
       "0    -27        19     208      265      386  \n",
       "1     42         8     215      261      431  \n",
       "3      3         9     219      267      447  \n",
       "5     24         9     225      260      427  \n",
       "6     83        17     215      252      395  "
      ]
     },
     "execution_count": 4,
     "metadata": {},
     "output_type": "execute_result"
    }
   ],
   "source": [
    "# Cargar el archivo Excel en un DataFrame\n",
    "ruta=r\"C:\\Users\\luisa\\OneDrive - Universidad de Antioquia\\Documentos\\BIOSENALES24II\\Proyecto2\\Diagnostics.xlsx\"\n",
    "diagnostics_df = pd.read_excel(ruta)\n",
    "\n",
    "# Crear el nuevo dataframe filtrando por la columna 'Rhythm'\n",
    "datos = diagnostics_df[(diagnostics_df['Rhythm'] == 'SB') | (diagnostics_df['Rhythm'] == 'AFIB')]\n",
    "\n",
    "# Discriminar datos de acuerdo a su caracteristica \n",
    "datos_SB = diagnostics_df[(diagnostics_df['Rhythm'] == 'SB')]\n",
    "datos_AFIB = diagnostics_df[(diagnostics_df['Rhythm'] == 'AFIB')]\n",
    "\n",
    "# Convertir la columna 'FileName' en una lista de Python\n",
    "datos_lista = datos['FileName'].tolist()\n",
    "\n",
    "datos_lista_SB = datos_SB['FileName'].tolist()\n",
    "datos_lista_AFIB = datos_AFIB['FileName'].tolist()\n",
    "\n",
    "datos.head()"
   ]
  },
  {
   "cell_type": "code",
   "execution_count": null,
   "metadata": {},
   "outputs": [
    {
     "name": "stdout",
     "output_type": "stream",
     "text": [
      "                     FileName Rhythm      Beat  PatientAge Gender  \\\n",
      "0  MUSE_20180113_171327_27000   AFIB  RBBB TWC          85   MALE   \n",
      "\n",
      "   VentricularRate  AtrialRate  QRSDuration  QTInterval  QTCorrected  RAxis  \\\n",
      "0              117         234          114         356          496     81   \n",
      "\n",
      "   TAxis  QRSCount  QOnset  QOffset  TOffset  \n",
      "0    -27        19     208      265      386  \n"
     ]
    }
   ],
   "source": [
    "target_file = 'MUSE_20180113_171327_27000'\n",
    "datos_target = diagnostics_df[diagnostics_df['FileName'] == target_file]\n",
    "print(datos_target)\n",
    "\n"
   ]
  },
  {
   "cell_type": "code",
   "execution_count": 3,
   "metadata": {},
   "outputs": [
    {
     "name": "stdout",
     "output_type": "stream",
     "text": [
      "Tamaño total de Datos (SB + AFIB): 5669\n",
      "Tamaño de (SB): 3889\n",
      "Tamaño de (AFIB): 1780\n"
     ]
    }
   ],
   "source": [
    "# Imprimir los tamaños de las listas\n",
    "print(f\"Tamaño total de Datos (SB + AFIB): {len(datos_lista)}\")\n",
    "print(f\"Tamaño de (SB): {len(datos_lista_SB)}\")\n",
    "print(f\"Tamaño de (AFIB): {len(datos_lista_AFIB)}\")"
   ]
  },
  {
   "cell_type": "markdown",
   "metadata": {},
   "source": [
    "<hr>\n",
    "\n",
    "Seleccionar señales de la base de datos."
   ]
  },
  {
   "cell_type": "code",
   "execution_count": 4,
   "metadata": {},
   "outputs": [
    {
     "name": "stdout",
     "output_type": "stream",
     "text": [
      "Señales seleccionadas de SB: ['MUSE_20180112_072624_20000', 'MUSE_20180118_132206_33000', 'MUSE_20180118_132819_96000', 'MUSE_20180112_072725_42000', 'MUSE_20180114_135040_64000']\n",
      "Señales seleccionadas de AFIB: ['MUSE_20180712_160002_41000', 'MUSE_20180114_122956_07000', 'MUSE_20180119_170822_29000', 'MUSE_20180120_121731_93000', 'MUSE_20180113_131312_49000']\n"
     ]
    }
   ],
   "source": [
    "# Definir la ruta del archivo donde se guardarán los nombres de archivo seleccionados\n",
    "archivo_seleccion = r\"C:\\Users\\luisa\\OneDrive - Universidad de Antioquia\\Documentos\\BIOSENALES24II\\Proyecto4\\seleccion_filename.txt\"\n",
    "\n",
    "# Comprobar si el archivo de selección ya existe\n",
    "if os.path.exists(archivo_seleccion):\n",
    "    # Cargar los nombres de archivo previamente guardados\n",
    "    with open(archivo_seleccion, \"r\") as f:\n",
    "        seleccion = f.read().splitlines()\n",
    "    seleccion_SB = seleccion[:5]\n",
    "    seleccion_AFIB = seleccion[5:]\n",
    "else:\n",
    "    # Si el archivo no existe, realizar una selección aleatoria y guardarla\n",
    "    seleccion_SB = random.sample(datos_SB['FileName'].tolist(), 5)\n",
    "    seleccion_AFIB = random.sample(datos_AFIB['FileName'].tolist(), 5)\n",
    "    \n",
    "    # Guardar solo los nombres de archivo en el archivo de texto\n",
    "    with open(archivo_seleccion, \"w\") as f:\n",
    "        for filename in seleccion_SB + seleccion_AFIB:\n",
    "            f.write(f\"{filename}\\n\")\n",
    "\n",
    "# Imprimir las selecciones\n",
    "print(\"Señales seleccionadas de SB:\", seleccion_SB)\n",
    "print(\"Señales seleccionadas de AFIB:\", seleccion_AFIB)"
   ]
  },
  {
   "cell_type": "markdown",
   "metadata": {},
   "source": [
    "<hr>\n",
    "\n",
    "Aplicar tutorial de NeuroKit"
   ]
  }
 ],
 "metadata": {
  "kernelspec": {
   "display_name": "Python 3",
   "language": "python",
   "name": "python3"
  },
  "language_info": {
   "codemirror_mode": {
    "name": "ipython",
    "version": 3
   },
   "file_extension": ".py",
   "mimetype": "text/x-python",
   "name": "python",
   "nbconvert_exporter": "python",
   "pygments_lexer": "ipython3",
   "version": "3.12.5"
  }
 },
 "nbformat": 4,
 "nbformat_minor": 2
}
